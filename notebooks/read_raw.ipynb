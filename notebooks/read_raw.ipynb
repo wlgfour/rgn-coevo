{
 "cells": [
  {
   "cell_type": "code",
   "execution_count": 1,
   "metadata": {},
   "outputs": [],
   "source": [
    "import gzip\n",
    "import numpy as np\n",
    "import matplotlib.pyplot as plt\n",
    "\n",
    "filename = 'protnet_coevo/dummy'"
   ]
  },
  {
   "cell_type": "markdown",
   "metadata": {},
   "source": [
    "# Read entreis from zipped raw file\n",
    "\n",
    "`coevo` is a list of lines that will be inserted under the \\[COEVOLUTIONARY\\] tag in the protiennet text file.\n",
    "\n",
    "`coevo` should consist of flattened $21x21$ blocks for each upper triangular entry in an $lxl$ matrix where $l$ is the length of the sequence"
   ]
  },
  {
   "cell_type": "code",
   "execution_count": 3,
   "metadata": {},
   "outputs": [
    {
     "data": {
      "text/plain": [
       "(28, 441)"
      ]
     },
     "execution_count": 3,
     "metadata": {},
     "output_type": "execute_result"
    }
   ],
   "source": [
    "with gzip.open(f'{filename}.raw.gz', 'rb') as f:\n",
    "    line = ' '\n",
    "    len_ = 0\n",
    "    # the first lines are a pssm and end with '# 0 1' when the raw matrix starts\n",
    "    while line != '':\n",
    "        line = f.readline().decode()\n",
    "        if line[0] == '#':\n",
    "            break\n",
    "        len_ += 1\n",
    "    # number of entries to read (number of entries in an upper triangular matrix)\n",
    "    num_entries = int(len_*(len_-1)/2)\n",
    "    coevo = []\n",
    "    for i in range(num_entries):\n",
    "        block = np.zeros((21, 21))\n",
    "        for i in range(21):\n",
    "            line = f.readline().decode()\n",
    "            block[i] = np.fromstring(line, sep='\\t')\n",
    "        coevo.append(np.reshape(block, (21**2,)))  # flatten the block\n",
    "        f.readline()  # get rid of the next tag\n",
    "coevo = np.array(coevo)\n",
    "coevo.shape"
   ]
  },
  {
   "cell_type": "markdown",
   "metadata": {},
   "source": [
    "# Verify"
   ]
  },
  {
   "cell_type": "code",
   "execution_count": 5,
   "metadata": {},
   "outputs": [
    {
     "name": "stdout",
     "output_type": "stream",
     "text": [
      "(8, 8) <built-in function len>\n"
     ]
    },
    {
     "data": {
      "text/plain": [
       "<matplotlib.image.AxesImage at 0x1a624089240>"
      ]
     },
     "execution_count": 5,
     "metadata": {},
     "output_type": "execute_result"
    },
    {
     "data": {
      "image/png": "[encoded data removed]",
      "text/plain": [
       "<Figure size 432x288 with 1 Axes>"
      ]
     },
     "metadata": {
      "needs_background": "light"
     },
     "output_type": "display_data"
    }
   ],
   "source": [
    "indices = np.triu_indices(len_, 1)\n",
    "indices = list(zip(indices[0], indices[1]))\n",
    "coevo_ = np.zeros((len_, len_, 21**2))\n",
    "for k, i in enumerate(range(num_entries)):\n",
    "    coevo_[indices[i]] = coevo[k]\n",
    "coevo_ = coevo_ + np.transpose(coevo_, (1, 0, 2))\n",
    "coevo_ = np.max(coevo_, axis=-1)\n",
    "print(coevo_.shape, len)\n",
    "\n",
    "plt.imshow(coevo_)"
   ]
  },
  {
   "cell_type": "markdown",
   "metadata": {},
   "source": [
    "# Write to ptotnet txt file\n",
    "\n",
    "Assumes that there is a protnet txt file with the file name `{filename}.txt`"
   ]
  },
  {
   "cell_type": "code",
   "execution_count": 6,
   "metadata": {},
   "outputs": [
    {
     "data": {
      "text/plain": [
       "{'[ID]': 0,\n",
       " '[PRIMARY]': 2,\n",
       " '[EVOLUTIONARY]': 4,\n",
       " '[TERTIARY]': 26,\n",
       " '[MASK]': 30}"
      ]
     },
     "execution_count": 6,
     "metadata": {},
     "output_type": "execute_result"
    }
   ],
   "source": [
    "with open(f'{filename}.txt', 'r') as f:\n",
    "    lines = [line for line in f.readlines()]\n",
    "landmarks = {line.strip(): i for i, line in enumerate(lines) if '[' in line}\n",
    "landmarks"
   ]
  },
  {
   "cell_type": "code",
   "execution_count": 10,
   "metadata": {},
   "outputs": [],
   "source": [
    "def np2str(arr):\n",
    "    s = ''\n",
    "    for i in range(arr.shape[0]):\n",
    "        tmp = ''\n",
    "        for j in range(arr.shape[1]):\n",
    "            tmp += str(arr[i, j])\n",
    "            tmp += '\\t'\n",
    "        s += tmp[:-1] + '\\n'\n",
    "    return s\n",
    "with open(f'{filename}_w_coevo.txt', 'w') as f:\n",
    "    f.writelines(lines[:landmarks['[TERTIARY]']])\n",
    "    f.write('[COEVOLUTIONARY]\\n')\n",
    "    f.writelines(np2str(np.array(coevo)))\n",
    "    f.writelines(lines[landmarks['[TERTIARY]']:])"
   ]
  }
 ],
 "metadata": {
  "kernelspec": {
   "display_name": "Python 3",
   "language": "python",
   "name": "python3"
  },
  "language_info": {
   "codemirror_mode": {
    "name": "ipython",
    "version": 3
   },
   "file_extension": ".py",
   "mimetype": "text/x-python",
   "name": "python",
   "nbconvert_exporter": "python",
   "pygments_lexer": "ipython3",
   "version": "3.6.6"
  }
 },
 "nbformat": 4,
 "nbformat_minor": 4
}
